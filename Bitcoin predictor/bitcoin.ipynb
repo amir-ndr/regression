{
 "cells": [
  {
   "cell_type": "code",
   "execution_count": 1,
   "id": "funded-malawi",
   "metadata": {},
   "outputs": [],
   "source": [
    "import numpy as np\n",
    "import pandas as pd\n",
    "import matplotlib.pyplot as plt"
   ]
  },
  {
   "cell_type": "code",
   "execution_count": 2,
   "id": "graphic-amazon",
   "metadata": {},
   "outputs": [
    {
     "data": {
      "text/html": [
       "<div>\n",
       "<style scoped>\n",
       "    .dataframe tbody tr th:only-of-type {\n",
       "        vertical-align: middle;\n",
       "    }\n",
       "\n",
       "    .dataframe tbody tr th {\n",
       "        vertical-align: top;\n",
       "    }\n",
       "\n",
       "    .dataframe thead th {\n",
       "        text-align: right;\n",
       "    }\n",
       "</style>\n",
       "<table border=\"1\" class=\"dataframe\">\n",
       "  <thead>\n",
       "    <tr style=\"text-align: right;\">\n",
       "      <th></th>\n",
       "      <th>Date</th>\n",
       "      <th>Price</th>\n",
       "    </tr>\n",
       "  </thead>\n",
       "  <tbody>\n",
       "    <tr>\n",
       "      <th>0</th>\n",
       "      <td>5/23/2019</td>\n",
       "      <td>7881.846680</td>\n",
       "    </tr>\n",
       "    <tr>\n",
       "      <th>1</th>\n",
       "      <td>5/24/2019</td>\n",
       "      <td>7987.371582</td>\n",
       "    </tr>\n",
       "    <tr>\n",
       "      <th>2</th>\n",
       "      <td>5/25/2019</td>\n",
       "      <td>8052.543945</td>\n",
       "    </tr>\n",
       "    <tr>\n",
       "      <th>3</th>\n",
       "      <td>5/26/2019</td>\n",
       "      <td>8673.215820</td>\n",
       "    </tr>\n",
       "    <tr>\n",
       "      <th>4</th>\n",
       "      <td>5/27/2019</td>\n",
       "      <td>8805.778320</td>\n",
       "    </tr>\n",
       "  </tbody>\n",
       "</table>\n",
       "</div>"
      ],
      "text/plain": [
       "        Date        Price\n",
       "0  5/23/2019  7881.846680\n",
       "1  5/24/2019  7987.371582\n",
       "2  5/25/2019  8052.543945\n",
       "3  5/26/2019  8673.215820\n",
       "4  5/27/2019  8805.778320"
      ]
     },
     "execution_count": 2,
     "metadata": {},
     "output_type": "execute_result"
    }
   ],
   "source": [
    "df = pd.read_csv(\"bitcoin.csv\")\n",
    "df.head()"
   ]
  },
  {
   "cell_type": "code",
   "execution_count": null,
   "id": "occupational-wednesday",
   "metadata": {},
   "outputs": [],
   "source": []
  },
  {
   "cell_type": "code",
   "execution_count": 3,
   "id": "electronic-cream",
   "metadata": {},
   "outputs": [
    {
     "data": {
      "text/html": [
       "<div>\n",
       "<style scoped>\n",
       "    .dataframe tbody tr th:only-of-type {\n",
       "        vertical-align: middle;\n",
       "    }\n",
       "\n",
       "    .dataframe tbody tr th {\n",
       "        vertical-align: top;\n",
       "    }\n",
       "\n",
       "    .dataframe thead th {\n",
       "        text-align: right;\n",
       "    }\n",
       "</style>\n",
       "<table border=\"1\" class=\"dataframe\">\n",
       "  <thead>\n",
       "    <tr style=\"text-align: right;\">\n",
       "      <th></th>\n",
       "      <th>Date</th>\n",
       "      <th>Price</th>\n",
       "      <th>Prediction</th>\n",
       "    </tr>\n",
       "  </thead>\n",
       "  <tbody>\n",
       "    <tr>\n",
       "      <th>0</th>\n",
       "      <td>5/23/2019</td>\n",
       "      <td>7881.846680</td>\n",
       "      <td>8319.472656</td>\n",
       "    </tr>\n",
       "    <tr>\n",
       "      <th>1</th>\n",
       "      <td>5/24/2019</td>\n",
       "      <td>7987.371582</td>\n",
       "      <td>8574.501953</td>\n",
       "    </tr>\n",
       "    <tr>\n",
       "      <th>2</th>\n",
       "      <td>5/25/2019</td>\n",
       "      <td>8052.543945</td>\n",
       "      <td>8564.016602</td>\n",
       "    </tr>\n",
       "    <tr>\n",
       "      <th>3</th>\n",
       "      <td>5/26/2019</td>\n",
       "      <td>8673.215820</td>\n",
       "      <td>8742.958008</td>\n",
       "    </tr>\n",
       "    <tr>\n",
       "      <th>4</th>\n",
       "      <td>5/27/2019</td>\n",
       "      <td>8805.778320</td>\n",
       "      <td>8208.995117</td>\n",
       "    </tr>\n",
       "  </tbody>\n",
       "</table>\n",
       "</div>"
      ],
      "text/plain": [
       "        Date        Price   Prediction\n",
       "0  5/23/2019  7881.846680  8319.472656\n",
       "1  5/24/2019  7987.371582  8574.501953\n",
       "2  5/25/2019  8052.543945  8564.016602\n",
       "3  5/26/2019  8673.215820  8742.958008\n",
       "4  5/27/2019  8805.778320  8208.995117"
      ]
     },
     "execution_count": 3,
     "metadata": {},
     "output_type": "execute_result"
    }
   ],
   "source": [
    "predictionDays = 7\n",
    "df['Prediction'] = df[['Price']].shift(-predictionDays)\n",
    "df.head()"
   ]
  },
  {
   "cell_type": "code",
   "execution_count": 4,
   "id": "static-drink",
   "metadata": {},
   "outputs": [
    {
     "data": {
      "text/plain": [
       "(360, 1)"
      ]
     },
     "execution_count": 4,
     "metadata": {},
     "output_type": "execute_result"
    }
   ],
   "source": [
    "X = df[['Price']].values\n",
    "X = X[:-predictionDays]\n",
    "X.shape"
   ]
  },
  {
   "cell_type": "code",
   "execution_count": 5,
   "id": "prepared-flash",
   "metadata": {},
   "outputs": [
    {
     "data": {
      "text/plain": [
       "0    8319.472656\n",
       "1    8574.501953\n",
       "2    8564.016602\n",
       "3    8742.958008\n",
       "4    8208.995117\n",
       "Name: Prediction, dtype: float64"
      ]
     },
     "execution_count": 5,
     "metadata": {},
     "output_type": "execute_result"
    }
   ],
   "source": [
    "y = df['Prediction']\n",
    "y = y[:-predictionDays]\n",
    "y[0:5]"
   ]
  },
  {
   "cell_type": "code",
   "execution_count": 6,
   "id": "sought-topic",
   "metadata": {},
   "outputs": [
    {
     "name": "stdout",
     "output_type": "stream",
     "text": [
      "(288, 1) (288,)\n",
      "(72, 1) (72,)\n"
     ]
    }
   ],
   "source": [
    "from sklearn.model_selection import train_test_split\n",
    "X_train,X_test, y_train,y_test = train_test_split(X,y,test_size=0.2,random_state=3)\n",
    "print(X_train.shape,y_train.shape)\n",
    "print(X_test.shape,y_test.shape)"
   ]
  },
  {
   "cell_type": "code",
   "execution_count": 7,
   "id": "smooth-niger",
   "metadata": {},
   "outputs": [
    {
     "data": {
      "text/plain": [
       "array([[ 6985.470215],\n",
       "       [ 8043.951172],\n",
       "       [11959.37109 ],\n",
       "       [ 9552.860352],\n",
       "       [ 8807.010742]])"
      ]
     },
     "execution_count": 7,
     "metadata": {},
     "output_type": "execute_result"
    }
   ],
   "source": [
    "X_test[0:5]"
   ]
  },
  {
   "cell_type": "code",
   "execution_count": 8,
   "id": "discrete-basics",
   "metadata": {},
   "outputs": [],
   "source": [
    "X_with_nan_output = df[['Price']].values[-predictionDays:]"
   ]
  },
  {
   "cell_type": "code",
   "execution_count": 9,
   "id": "external-report",
   "metadata": {},
   "outputs": [
    {
     "data": {
      "text/plain": [
       "Text(0, 0.5, 'next week price')"
      ]
     },
     "execution_count": 9,
     "metadata": {},
     "output_type": "execute_result"
    },
    {
     "data": {
      "image/png": "[encoded data removed]",
      "text/plain": [
       "<Figure size 432x288 with 1 Axes>"
      ]
     },
     "metadata": {
      "needs_background": "light"
     },
     "output_type": "display_data"
    }
   ],
   "source": [
    "plt.plot(X,y,'go')\n",
    "plt.xlabel('Price')\n",
    "plt.ylabel('next week price')"
   ]
  },
  {
   "cell_type": "code",
   "execution_count": 31,
   "id": "civil-doctrine",
   "metadata": {},
   "outputs": [
    {
     "name": "stdout",
     "output_type": "stream",
     "text": [
      "acc are:  [ 5.94790164e-01  6.02649219e-01 -1.31932323e-04  4.27108920e-02]\n"
     ]
    }
   ],
   "source": [
    "from sklearn.metrics import r2_score\n",
    "from sklearn.svm import SVR\n",
    "\n",
    "MD = 5\n",
    "mean_acc = np.zeros((MD-1))\n",
    "S=['rbf','poly','linear','sigmoid']\n",
    "for i in range(len(S)):\n",
    "    clf = SVR(kernel=S[i])\n",
    "    clf.fit(X_train, y_train) \n",
    "    y_predict = clf.predict(X_test)\n",
    "    mean_acc[i-1] = r2_score(y_test,y_predict)\n",
    "print('acc are: ',mean_acc)    # so the poly is chosen"
   ]
  },
  {
   "cell_type": "code",
   "execution_count": 40,
   "id": "iraqi-integral",
   "metadata": {},
   "outputs": [
    {
     "data": {
      "text/plain": [
       "SVR(C=1000.0, kernel='poly')"
      ]
     },
     "execution_count": 40,
     "metadata": {},
     "output_type": "execute_result"
    }
   ],
   "source": [
    "from sklearn.svm import SVR\n",
    "svr = SVR(kernel='poly',C=1e3)\n",
    "svr.fit(X_train,y_train)"
   ]
  },
  {
   "cell_type": "code",
   "execution_count": 41,
   "id": "animal-richards",
   "metadata": {},
   "outputs": [
    {
     "data": {
      "text/plain": [
       "0.5929031977705004"
      ]
     },
     "execution_count": 41,
     "metadata": {},
     "output_type": "execute_result"
    }
   ],
   "source": [
    "svr.score(X_test,y_test) #r2_score"
   ]
  },
  {
   "cell_type": "code",
   "execution_count": 42,
   "id": "oriented-anatomy",
   "metadata": {},
   "outputs": [],
   "source": [
    "y_predict = svr.predict(X_test)"
   ]
  },
  {
   "cell_type": "code",
   "execution_count": 43,
   "id": "voluntary-forge",
   "metadata": {},
   "outputs": [
    {
     "name": "stdout",
     "output_type": "stream",
     "text": [
      "the r2_score is:  0.5929031977705004\n"
     ]
    }
   ],
   "source": [
    "from sklearn.metrics import r2_score\n",
    "print('the r2_score is: ',r2_score(y_test,y_predict))"
   ]
  },
  {
   "cell_type": "code",
   "execution_count": 14,
   "id": "adapted-disorder",
   "metadata": {},
   "outputs": [],
   "source": [
    "df_week = df[['Date','Price']][-predictionDays:]"
   ]
  },
  {
   "cell_type": "code",
   "execution_count": 17,
   "id": "apart-council",
   "metadata": {},
   "outputs": [
    {
     "data": {
      "text/html": [
       "<div>\n",
       "<style scoped>\n",
       "    .dataframe tbody tr th:only-of-type {\n",
       "        vertical-align: middle;\n",
       "    }\n",
       "\n",
       "    .dataframe tbody tr th {\n",
       "        vertical-align: top;\n",
       "    }\n",
       "\n",
       "    .dataframe thead th {\n",
       "        text-align: right;\n",
       "    }\n",
       "</style>\n",
       "<table border=\"1\" class=\"dataframe\">\n",
       "  <thead>\n",
       "    <tr style=\"text-align: right;\">\n",
       "      <th></th>\n",
       "      <th>Date</th>\n",
       "      <th>Price</th>\n",
       "      <th>Prdiction for next week</th>\n",
       "    </tr>\n",
       "  </thead>\n",
       "  <tbody>\n",
       "    <tr>\n",
       "      <th>360</th>\n",
       "      <td>5/17/2020</td>\n",
       "      <td>9670.739258</td>\n",
       "      <td>9508.365703</td>\n",
       "    </tr>\n",
       "    <tr>\n",
       "      <th>361</th>\n",
       "      <td>5/18/2020</td>\n",
       "      <td>9726.575195</td>\n",
       "      <td>9563.418373</td>\n",
       "    </tr>\n",
       "    <tr>\n",
       "      <th>362</th>\n",
       "      <td>5/19/2020</td>\n",
       "      <td>9729.038086</td>\n",
       "      <td>9565.840234</td>\n",
       "    </tr>\n",
       "    <tr>\n",
       "      <th>363</th>\n",
       "      <td>5/20/2020</td>\n",
       "      <td>9522.981445</td>\n",
       "      <td>9362.089890</td>\n",
       "    </tr>\n",
       "    <tr>\n",
       "      <th>364</th>\n",
       "      <td>5/21/2020</td>\n",
       "      <td>9081.761719</td>\n",
       "      <td>8947.220526</td>\n",
       "    </tr>\n",
       "  </tbody>\n",
       "</table>\n",
       "</div>"
      ],
      "text/plain": [
       "          Date        Price  Prdiction for next week\n",
       "360  5/17/2020  9670.739258              9508.365703\n",
       "361  5/18/2020  9726.575195              9563.418373\n",
       "362  5/19/2020  9729.038086              9565.840234\n",
       "363  5/20/2020  9522.981445              9362.089890\n",
       "364  5/21/2020  9081.761719              8947.220526"
      ]
     },
     "execution_count": 17,
     "metadata": {},
     "output_type": "execute_result"
    }
   ],
   "source": [
    "y_week = svr.predict(X_with_nan_output)\n",
    "df_week['Prdiction for next week'] = y_week \n",
    "df_week.head()"
   ]
  },
  {
   "cell_type": "code",
   "execution_count": 18,
   "id": "racial-maine",
   "metadata": {},
   "outputs": [
    {
     "data": {
      "text/html": [
       "<div>\n",
       "<style scoped>\n",
       "    .dataframe tbody tr th:only-of-type {\n",
       "        vertical-align: middle;\n",
       "    }\n",
       "\n",
       "    .dataframe tbody tr th {\n",
       "        vertical-align: top;\n",
       "    }\n",
       "\n",
       "    .dataframe thead th {\n",
       "        text-align: right;\n",
       "    }\n",
       "</style>\n",
       "<table border=\"1\" class=\"dataframe\">\n",
       "  <thead>\n",
       "    <tr style=\"text-align: right;\">\n",
       "      <th></th>\n",
       "      <th>Date</th>\n",
       "      <th>Price</th>\n",
       "      <th>Prdiction for next week</th>\n",
       "    </tr>\n",
       "  </thead>\n",
       "  <tbody>\n",
       "    <tr>\n",
       "      <th>0</th>\n",
       "      <td>5/17/2020</td>\n",
       "      <td>9670.739258</td>\n",
       "      <td>9508.365703</td>\n",
       "    </tr>\n",
       "    <tr>\n",
       "      <th>1</th>\n",
       "      <td>5/18/2020</td>\n",
       "      <td>9726.575195</td>\n",
       "      <td>9563.418373</td>\n",
       "    </tr>\n",
       "    <tr>\n",
       "      <th>2</th>\n",
       "      <td>5/19/2020</td>\n",
       "      <td>9729.038086</td>\n",
       "      <td>9565.840234</td>\n",
       "    </tr>\n",
       "    <tr>\n",
       "      <th>3</th>\n",
       "      <td>5/20/2020</td>\n",
       "      <td>9522.981445</td>\n",
       "      <td>9362.089890</td>\n",
       "    </tr>\n",
       "    <tr>\n",
       "      <th>4</th>\n",
       "      <td>5/21/2020</td>\n",
       "      <td>9081.761719</td>\n",
       "      <td>8947.220526</td>\n",
       "    </tr>\n",
       "    <tr>\n",
       "      <th>5</th>\n",
       "      <td>5/22/2020</td>\n",
       "      <td>9182.577148</td>\n",
       "      <td>9036.211171</td>\n",
       "    </tr>\n",
       "    <tr>\n",
       "      <th>6</th>\n",
       "      <td>5/23/2020</td>\n",
       "      <td>9180.045898</td>\n",
       "      <td>9033.920947</td>\n",
       "    </tr>\n",
       "  </tbody>\n",
       "</table>\n",
       "</div>"
      ],
      "text/plain": [
       "        Date        Price  Prdiction for next week\n",
       "0  5/17/2020  9670.739258              9508.365703\n",
       "1  5/18/2020  9726.575195              9563.418373\n",
       "2  5/19/2020  9729.038086              9565.840234\n",
       "3  5/20/2020  9522.981445              9362.089890\n",
       "4  5/21/2020  9081.761719              8947.220526\n",
       "5  5/22/2020  9182.577148              9036.211171\n",
       "6  5/23/2020  9180.045898              9033.920947"
      ]
     },
     "execution_count": 18,
     "metadata": {},
     "output_type": "execute_result"
    }
   ],
   "source": [
    "df_week.reset_index(drop=True)"
   ]
  },
  {
   "cell_type": "markdown",
   "id": "gorgeous-attraction",
   "metadata": {},
   "source": [
    "#### with polynomial regression"
   ]
  },
  {
   "cell_type": "code",
   "execution_count": 19,
   "id": "taken-parallel",
   "metadata": {},
   "outputs": [
    {
     "data": {
      "text/plain": [
       "LinearRegression()"
      ]
     },
     "execution_count": 19,
     "metadata": {},
     "output_type": "execute_result"
    }
   ],
   "source": [
    "from sklearn.preprocessing import PolynomialFeatures\n",
    "poly = PolynomialFeatures(degree=2)\n",
    "features = poly.fit_transform(X_train)\n",
    "from sklearn import linear_model\n",
    "regr = linear_model.LinearRegression()\n",
    "regr.fit(features,y_train)"
   ]
  },
  {
   "cell_type": "code",
   "execution_count": 20,
   "id": "suffering-viking",
   "metadata": {},
   "outputs": [
    {
     "data": {
      "text/plain": [
       "63.64415128773544"
      ]
     },
     "execution_count": 20,
     "metadata": {},
     "output_type": "execute_result"
    }
   ],
   "source": [
    "regr.intercept_"
   ]
  },
  {
   "cell_type": "code",
   "execution_count": 21,
   "id": "residential-mystery",
   "metadata": {},
   "outputs": [
    {
     "data": {
      "text/plain": [
       "array([ 0.00000000e+00,  1.23311076e+00, -2.62172436e-05])"
      ]
     },
     "execution_count": 21,
     "metadata": {},
     "output_type": "execute_result"
    }
   ],
   "source": [
    "regr.coef_"
   ]
  },
  {
   "cell_type": "code",
   "execution_count": 22,
   "id": "rising-squad",
   "metadata": {},
   "outputs": [
    {
     "data": {
      "text/plain": [
       "[<matplotlib.lines.Line2D at 0x17125b0>]"
      ]
     },
     "execution_count": 22,
     "metadata": {},
     "output_type": "execute_result"
    },
    {
     "data": {
      "image/png": "[encoded data removed]",
      "text/plain": [
       "<Figure size 432x288 with 1 Axes>"
      ]
     },
     "metadata": {
      "needs_background": "light"
     },
     "output_type": "display_data"
    }
   ],
   "source": [
    "plt.plot(X,y,'go')\n",
    "plt.xlabel('Price')\n",
    "plt.ylabel('next week price')\n",
    "XX = np.arange(5000, 13000,1000)\n",
    "yy = regr.intercept_+ regr.coef_[1]*XX+ regr.coef_[2]*np.power(XX, 2)\n",
    "plt.plot(XX, yy, '-r' )"
   ]
  },
  {
   "cell_type": "code",
   "execution_count": 23,
   "id": "chemical-nitrogen",
   "metadata": {},
   "outputs": [],
   "source": [
    "features_poly = poly.fit_transform(X_test)\n",
    "y_predict_poly = regr.predict(features_poly)"
   ]
  },
  {
   "cell_type": "code",
   "execution_count": 24,
   "id": "upper-transcript",
   "metadata": {},
   "outputs": [
    {
     "name": "stdout",
     "output_type": "stream",
     "text": [
      "Mean absolute error: 698.81\n",
      "Residual sum of squares (MSE): 1183528.53\n",
      "R2-score: 0.60\n"
     ]
    }
   ],
   "source": [
    "print(\"Mean absolute error: %.2f\" % np.mean(np.absolute(y_test - y_predict_poly)))\n",
    "print(\"Residual sum of squares (MSE): %.2f\" % np.mean((y_test - y_predict_poly) ** 2))\n",
    "print(\"R2-score: %.2f\" % r2_score(y_test,y_predict_poly) )"
   ]
  },
  {
   "cell_type": "code",
   "execution_count": 25,
   "id": "artificial-librarian",
   "metadata": {},
   "outputs": [],
   "source": [
    "features_poly_week = poly.fit_transform(X_with_nan_output)\n",
    "y_week2 = regr.predict(features_poly_week)"
   ]
  },
  {
   "cell_type": "code",
   "execution_count": 26,
   "id": "empirical-break",
   "metadata": {},
   "outputs": [
    {
     "data": {
      "text/html": [
       "<div>\n",
       "<style scoped>\n",
       "    .dataframe tbody tr th:only-of-type {\n",
       "        vertical-align: middle;\n",
       "    }\n",
       "\n",
       "    .dataframe tbody tr th {\n",
       "        vertical-align: top;\n",
       "    }\n",
       "\n",
       "    .dataframe thead th {\n",
       "        text-align: right;\n",
       "    }\n",
       "</style>\n",
       "<table border=\"1\" class=\"dataframe\">\n",
       "  <thead>\n",
       "    <tr style=\"text-align: right;\">\n",
       "      <th></th>\n",
       "      <th>Date</th>\n",
       "      <th>Price</th>\n",
       "      <th>Prdiction for next week</th>\n",
       "    </tr>\n",
       "  </thead>\n",
       "  <tbody>\n",
       "    <tr>\n",
       "      <th>0</th>\n",
       "      <td>5/17/2020</td>\n",
       "      <td>9670.739258</td>\n",
       "      <td>9536.816361</td>\n",
       "    </tr>\n",
       "    <tr>\n",
       "      <th>1</th>\n",
       "      <td>5/18/2020</td>\n",
       "      <td>9726.575195</td>\n",
       "      <td>9577.273218</td>\n",
       "    </tr>\n",
       "    <tr>\n",
       "      <th>2</th>\n",
       "      <td>5/19/2020</td>\n",
       "      <td>9729.038086</td>\n",
       "      <td>9579.053983</td>\n",
       "    </tr>\n",
       "    <tr>\n",
       "      <th>3</th>\n",
       "      <td>5/20/2020</td>\n",
       "      <td>9522.981445</td>\n",
       "      <td>9428.967296</td>\n",
       "    </tr>\n",
       "    <tr>\n",
       "      <th>4</th>\n",
       "      <td>5/21/2020</td>\n",
       "      <td>9081.761719</td>\n",
       "      <td>9100.106079</td>\n",
       "    </tr>\n",
       "    <tr>\n",
       "      <th>5</th>\n",
       "      <td>5/22/2020</td>\n",
       "      <td>9182.577148</td>\n",
       "      <td>9176.148147</td>\n",
       "    </tr>\n",
       "    <tr>\n",
       "      <th>6</th>\n",
       "      <td>5/23/2020</td>\n",
       "      <td>9180.045898</td>\n",
       "      <td>9174.245423</td>\n",
       "    </tr>\n",
       "  </tbody>\n",
       "</table>\n",
       "</div>"
      ],
      "text/plain": [
       "        Date        Price  Prdiction for next week\n",
       "0  5/17/2020  9670.739258              9536.816361\n",
       "1  5/18/2020  9726.575195              9577.273218\n",
       "2  5/19/2020  9729.038086              9579.053983\n",
       "3  5/20/2020  9522.981445              9428.967296\n",
       "4  5/21/2020  9081.761719              9100.106079\n",
       "5  5/22/2020  9182.577148              9176.148147\n",
       "6  5/23/2020  9180.045898              9174.245423"
      ]
     },
     "execution_count": 26,
     "metadata": {},
     "output_type": "execute_result"
    }
   ],
   "source": [
    "df_week2 = df[['Date','Price']][-predictionDays:]\n",
    "df_week2['Prdiction for next week'] = y_week2\n",
    "df_week2.reset_index(drop=True)"
   ]
  },
  {
   "cell_type": "code",
   "execution_count": null,
   "id": "powered-librarian",
   "metadata": {},
   "outputs": [],
   "source": []
  }
 ],
 "metadata": {
  "kernelspec": {
   "display_name": "Python 3",
   "language": "python",
   "name": "python3"
  },
  "language_info": {
   "codemirror_mode": {
    "name": "ipython",
    "version": 3
   },
   "file_extension": ".py",
   "mimetype": "text/x-python",
   "name": "python",
   "nbconvert_exporter": "python",
   "pygments_lexer": "ipython3",
   "version": "3.7.4"
  }
 },
 "nbformat": 4,
 "nbformat_minor": 5
}
