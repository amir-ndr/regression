{
  "nbformat": 4,
  "nbformat_minor": 0,
  "metadata": {
    "colab": {
      "name": "stock.ipynb",
      "provenance": [],
      "collapsed_sections": []
    },
    "kernelspec": {
      "name": "python3",
      "display_name": "Python 3"
    },
    "language_info": {
      "name": "python"
    }
  },
  "cells": [
    {
      "cell_type": "code",
      "metadata": {
        "id": "8fOMDdy85oeT"
      },
      "source": [
        "import pandas as pd\n",
        "import numpy as np\n",
        "import matplotlib.pyplot as plt\n",
        "from datetime import date,datetime"
      ],
      "execution_count": null,
      "outputs": []
    },
    {
      "cell_type": "code",
      "metadata": {
        "id": "map-PwMl5tLk"
      },
      "source": [
        "# !pip install iexfinance\n",
        "import iexfinance\n",
        "from iexfinance.stocks import get_historical_data"
      ],
      "execution_count": null,
      "outputs": []
    },
    {
      "cell_type": "code",
      "metadata": {
        "id": "N5av5jJD5v3A"
      },
      "source": [
        "start = datetime(2016,1,1)\n",
        "end = date.today()\n",
        "df = get_historical_data('AAPL',start=start, end=end, output_format='pandas',token='sk_899a93cf33454aae8ccf25c5f348b28f')"
      ],
      "execution_count": null,
      "outputs": []
    },
    {
      "cell_type": "code",
      "metadata": {
        "id": "opRSQLpF6pcC"
      },
      "source": [
        "apple_df = df.copy()"
      ],
      "execution_count": null,
      "outputs": []
    },
    {
      "cell_type": "code",
      "metadata": {
        "colab": {
          "base_uri": "https://localhost:8080/",
          "height": 383
        },
        "id": "O2-o46-T6Ri3",
        "outputId": "a959fad0-b63a-4bea-8b8b-a622412c2c96"
      },
      "source": [
        "apple_df.tail()"
      ],
      "execution_count": null,
      "outputs": [
        {
          "output_type": "execute_result",
          "data": {
            "text/html": [
              "<div>\n",
              "<style scoped>\n",
              "    .dataframe tbody tr th:only-of-type {\n",
              "        vertical-align: middle;\n",
              "    }\n",
              "\n",
              "    .dataframe tbody tr th {\n",
              "        vertical-align: top;\n",
              "    }\n",
              "\n",
              "    .dataframe thead th {\n",
              "        text-align: right;\n",
              "    }\n",
              "</style>\n",
              "<table border=\"1\" class=\"dataframe\">\n",
              "  <thead>\n",
              "    <tr style=\"text-align: right;\">\n",
              "      <th></th>\n",
              "      <th>close</th>\n",
              "      <th>high</th>\n",
              "      <th>low</th>\n",
              "      <th>open</th>\n",
              "      <th>symbol</th>\n",
              "      <th>volume</th>\n",
              "      <th>id</th>\n",
              "      <th>key</th>\n",
              "      <th>subkey</th>\n",
              "      <th>updated</th>\n",
              "      <th>changeOverTime</th>\n",
              "      <th>marketChangeOverTime</th>\n",
              "      <th>uOpen</th>\n",
              "      <th>uClose</th>\n",
              "      <th>uHigh</th>\n",
              "      <th>uLow</th>\n",
              "      <th>uVolume</th>\n",
              "      <th>fOpen</th>\n",
              "      <th>fClose</th>\n",
              "      <th>fHigh</th>\n",
              "      <th>fLow</th>\n",
              "      <th>fVolume</th>\n",
              "      <th>label</th>\n",
              "      <th>change</th>\n",
              "      <th>changePercent</th>\n",
              "    </tr>\n",
              "  </thead>\n",
              "  <tbody>\n",
              "    <tr>\n",
              "      <th>2021-05-17</th>\n",
              "      <td>126.27</td>\n",
              "      <td>126.93</td>\n",
              "      <td>125.17</td>\n",
              "      <td>126.82</td>\n",
              "      <td>AAPL</td>\n",
              "      <td>74244624</td>\n",
              "      <td>HISTORICAL_PRICES</td>\n",
              "      <td>AAPL</td>\n",
              "      <td></td>\n",
              "      <td>1621299603000</td>\n",
              "      <td>40.6733</td>\n",
              "      <td>40.6733</td>\n",
              "      <td>126.82</td>\n",
              "      <td>126.27</td>\n",
              "      <td>126.93</td>\n",
              "      <td>125.17</td>\n",
              "      <td>74244624</td>\n",
              "      <td>126.82</td>\n",
              "      <td>126.27</td>\n",
              "      <td>126.93</td>\n",
              "      <td>125.17</td>\n",
              "      <td>74244624</td>\n",
              "      <td>May 17, 21</td>\n",
              "      <td>-1.18</td>\n",
              "      <td>-0.0093</td>\n",
              "    </tr>\n",
              "    <tr>\n",
              "      <th>2021-05-18</th>\n",
              "      <td>124.85</td>\n",
              "      <td>126.99</td>\n",
              "      <td>124.78</td>\n",
              "      <td>126.56</td>\n",
              "      <td>AAPL</td>\n",
              "      <td>63342929</td>\n",
              "      <td>HISTORICAL_PRICES</td>\n",
              "      <td>AAPL</td>\n",
              "      <td></td>\n",
              "      <td>1621385282000</td>\n",
              "      <td>40.2046</td>\n",
              "      <td>40.2046</td>\n",
              "      <td>126.56</td>\n",
              "      <td>124.85</td>\n",
              "      <td>126.99</td>\n",
              "      <td>124.78</td>\n",
              "      <td>63342929</td>\n",
              "      <td>126.56</td>\n",
              "      <td>124.85</td>\n",
              "      <td>126.99</td>\n",
              "      <td>124.78</td>\n",
              "      <td>63342929</td>\n",
              "      <td>May 18, 21</td>\n",
              "      <td>-1.42</td>\n",
              "      <td>-0.0112</td>\n",
              "    </tr>\n",
              "    <tr>\n",
              "      <th>2021-05-19</th>\n",
              "      <td>124.69</td>\n",
              "      <td>124.915</td>\n",
              "      <td>122.86</td>\n",
              "      <td>123.16</td>\n",
              "      <td>AAPL</td>\n",
              "      <td>92611989</td>\n",
              "      <td>HISTORICAL_PRICES</td>\n",
              "      <td>AAPL</td>\n",
              "      <td></td>\n",
              "      <td>1621471681000</td>\n",
              "      <td>40.1518</td>\n",
              "      <td>40.1518</td>\n",
              "      <td>123.16</td>\n",
              "      <td>124.69</td>\n",
              "      <td>124.915</td>\n",
              "      <td>122.86</td>\n",
              "      <td>92611989</td>\n",
              "      <td>123.16</td>\n",
              "      <td>124.69</td>\n",
              "      <td>124.915</td>\n",
              "      <td>122.86</td>\n",
              "      <td>92611989</td>\n",
              "      <td>May 19, 21</td>\n",
              "      <td>-0.16</td>\n",
              "      <td>-0.0013</td>\n",
              "    </tr>\n",
              "    <tr>\n",
              "      <th>2021-05-20</th>\n",
              "      <td>127.31</td>\n",
              "      <td>127.72</td>\n",
              "      <td>125.1</td>\n",
              "      <td>125.23</td>\n",
              "      <td>AAPL</td>\n",
              "      <td>76857123</td>\n",
              "      <td>HISTORICAL_PRICES</td>\n",
              "      <td>AAPL</td>\n",
              "      <td></td>\n",
              "      <td>1621558085000</td>\n",
              "      <td>41.0165</td>\n",
              "      <td>41.0165</td>\n",
              "      <td>125.23</td>\n",
              "      <td>127.31</td>\n",
              "      <td>127.72</td>\n",
              "      <td>125.1</td>\n",
              "      <td>76857123</td>\n",
              "      <td>125.23</td>\n",
              "      <td>127.31</td>\n",
              "      <td>127.72</td>\n",
              "      <td>125.1</td>\n",
              "      <td>76857123</td>\n",
              "      <td>May 20, 21</td>\n",
              "      <td>2.62</td>\n",
              "      <td>0.021</td>\n",
              "    </tr>\n",
              "    <tr>\n",
              "      <th>2021-05-21</th>\n",
              "      <td>125.43</td>\n",
              "      <td>128</td>\n",
              "      <td>125.21</td>\n",
              "      <td>127.82</td>\n",
              "      <td>AAPL</td>\n",
              "      <td>79295436</td>\n",
              "      <td>HISTORICAL_PRICES</td>\n",
              "      <td>AAPL</td>\n",
              "      <td></td>\n",
              "      <td>1621646161000</td>\n",
              "      <td>40.396</td>\n",
              "      <td>40.396</td>\n",
              "      <td>127.82</td>\n",
              "      <td>125.43</td>\n",
              "      <td>128</td>\n",
              "      <td>125.21</td>\n",
              "      <td>79295436</td>\n",
              "      <td>127.82</td>\n",
              "      <td>125.43</td>\n",
              "      <td>128</td>\n",
              "      <td>125.21</td>\n",
              "      <td>79295436</td>\n",
              "      <td>May 21, 21</td>\n",
              "      <td>-1.88</td>\n",
              "      <td>-0.0148</td>\n",
              "    </tr>\n",
              "  </tbody>\n",
              "</table>\n",
              "</div>"
            ],
            "text/plain": [
              "             close     high     low  ...       label change changePercent\n",
              "2021-05-17  126.27   126.93  125.17  ...  May 17, 21  -1.18       -0.0093\n",
              "2021-05-18  124.85   126.99  124.78  ...  May 18, 21  -1.42       -0.0112\n",
              "2021-05-19  124.69  124.915  122.86  ...  May 19, 21  -0.16       -0.0013\n",
              "2021-05-20  127.31   127.72   125.1  ...  May 20, 21   2.62         0.021\n",
              "2021-05-21  125.43      128  125.21  ...  May 21, 21  -1.88       -0.0148\n",
              "\n",
              "[5 rows x 25 columns]"
            ]
          },
          "metadata": {
            "tags": []
          },
          "execution_count": 38
        }
      ]
    },
    {
      "cell_type": "code",
      "metadata": {
        "colab": {
          "base_uri": "https://localhost:8080/"
        },
        "id": "yEHtwBUa6UCm",
        "outputId": "af485f0b-1672-497e-90d9-f9febf1422e8"
      },
      "source": [
        "apple_df.shape"
      ],
      "execution_count": null,
      "outputs": [
        {
          "output_type": "execute_result",
          "data": {
            "text/plain": [
              "(1355, 25)"
            ]
          },
          "metadata": {
            "tags": []
          },
          "execution_count": 15
        }
      ]
    },
    {
      "cell_type": "code",
      "metadata": {
        "id": "tSq62zqO_ON3"
      },
      "source": [
        ""
      ],
      "execution_count": null,
      "outputs": []
    },
    {
      "cell_type": "code",
      "metadata": {
        "colab": {
          "base_uri": "https://localhost:8080/",
          "height": 380
        },
        "id": "nMBF87OO6XVT",
        "outputId": "e0d3b0b4-9db5-43d9-bcbc-ef36fbcb1619"
      },
      "source": [
        "from sklearn.model_selection import train_test_split\n",
        "\n",
        "prices = apple_df[['close']]\n",
        "prices.reset_index(level=0, inplace=True)\n",
        "prices.rename(columns={'index':'datetime'},inplace=True)\n",
        "prices['ts'] = prices.datetime.values.astype(np.int64) // (10 ** 9)\n",
        "prices = prices.drop(['datetime'], axis=1)\n",
        "\n",
        "dataset = prices.values\n",
        "X = dataset[:,1].reshape(-1,1)\n",
        "Y = dataset[:,0]\n",
        "\n",
        "X_train, X_validation, Y_train, Y_validation = train_test_split(X, Y, test_size=0.15, random_state=7)\n",
        "prices.head()"
      ],
      "execution_count": null,
      "outputs": [
        {
          "output_type": "stream",
          "text": [
            "/usr/local/lib/python3.7/dist-packages/pandas/core/frame.py:4308: SettingWithCopyWarning: \n",
            "A value is trying to be set on a copy of a slice from a DataFrame\n",
            "\n",
            "See the caveats in the documentation: https://pandas.pydata.org/pandas-docs/stable/user_guide/indexing.html#returning-a-view-versus-a-copy\n",
            "  errors=errors,\n",
            "/usr/local/lib/python3.7/dist-packages/ipykernel_launcher.py:6: SettingWithCopyWarning: \n",
            "A value is trying to be set on a copy of a slice from a DataFrame.\n",
            "Try using .loc[row_indexer,col_indexer] = value instead\n",
            "\n",
            "See the caveats in the documentation: https://pandas.pydata.org/pandas-docs/stable/user_guide/indexing.html#returning-a-view-versus-a-copy\n",
            "  \n"
          ],
          "name": "stderr"
        },
        {
          "output_type": "execute_result",
          "data": {
            "text/html": [
              "<div>\n",
              "<style scoped>\n",
              "    .dataframe tbody tr th:only-of-type {\n",
              "        vertical-align: middle;\n",
              "    }\n",
              "\n",
              "    .dataframe tbody tr th {\n",
              "        vertical-align: top;\n",
              "    }\n",
              "\n",
              "    .dataframe thead th {\n",
              "        text-align: right;\n",
              "    }\n",
              "</style>\n",
              "<table border=\"1\" class=\"dataframe\">\n",
              "  <thead>\n",
              "    <tr style=\"text-align: right;\">\n",
              "      <th></th>\n",
              "      <th>close</th>\n",
              "      <th>ts</th>\n",
              "    </tr>\n",
              "  </thead>\n",
              "  <tbody>\n",
              "    <tr>\n",
              "      <th>0</th>\n",
              "      <td>26.3375</td>\n",
              "      <td>1451865600</td>\n",
              "    </tr>\n",
              "    <tr>\n",
              "      <th>1</th>\n",
              "      <td>25.6775</td>\n",
              "      <td>1451952000</td>\n",
              "    </tr>\n",
              "    <tr>\n",
              "      <th>2</th>\n",
              "      <td>25.175</td>\n",
              "      <td>1452038400</td>\n",
              "    </tr>\n",
              "    <tr>\n",
              "      <th>3</th>\n",
              "      <td>24.1125</td>\n",
              "      <td>1452124800</td>\n",
              "    </tr>\n",
              "    <tr>\n",
              "      <th>4</th>\n",
              "      <td>24.24</td>\n",
              "      <td>1452211200</td>\n",
              "    </tr>\n",
              "  </tbody>\n",
              "</table>\n",
              "</div>"
            ],
            "text/plain": [
              "     close          ts\n",
              "0  26.3375  1451865600\n",
              "1  25.6775  1451952000\n",
              "2   25.175  1452038400\n",
              "3  24.1125  1452124800\n",
              "4    24.24  1452211200"
            ]
          },
          "metadata": {
            "tags": []
          },
          "execution_count": 70
        }
      ]
    },
    {
      "cell_type": "code",
      "metadata": {
        "id": "j0VJ5T0K-x95"
      },
      "source": [
        "from sklearn.linear_model import LinearRegression\n",
        "from sklearn.linear_model import Lasso\n",
        "from sklearn.linear_model import ElasticNet\n",
        "from sklearn.tree import DecisionTreeRegressor\n",
        "from sklearn.neighbors import KNeighborsRegressor\n",
        "from sklearn.svm import SVR\n",
        "\n",
        "num_folds = 10\n",
        "scoring = \"r2\"\n",
        "\n",
        "models = []\n",
        "models.append((' LR ', LinearRegression()))\n",
        "models.append((' LASSO ', Lasso()))\n",
        "models.append((' EN ', ElasticNet()))\n",
        "models.append((' KNN ', KNeighborsRegressor()))\n",
        "models.append((' CART ', DecisionTreeRegressor()))\n",
        "models.append((' SVR ', SVR()))"
      ],
      "execution_count": null,
      "outputs": []
    },
    {
      "cell_type": "code",
      "metadata": {
        "colab": {
          "base_uri": "https://localhost:8080/"
        },
        "id": "VTu3d2uNR6U3",
        "outputId": "acb30031-1a74-4610-f656-cc8f251df42c"
      },
      "source": [
        "from sklearn.model_selection import KFold\n",
        "from sklearn.model_selection import cross_val_score\n",
        "\n",
        "results = []\n",
        "names = []\n",
        "for name, model in models:\n",
        "    kfold = KFold(n_splits=num_folds, random_state=7, shuffle=True)\n",
        "    cv_results = cross_val_score(model, X_train, Y_train, cv=kfold, scoring=scoring)\n",
        "    results.append(cv_results)\n",
        "    names.append(name)\n",
        "    msg = \"%s: %f (%f)\" % (name, cv_results.mean(), cv_results.std())\n",
        "    print(msg)"
      ],
      "execution_count": null,
      "outputs": [
        {
          "output_type": "stream",
          "text": [
            " LR : 0.781553 (0.022333)\n",
            " LASSO : 0.781553 (0.022333)\n",
            " EN : 0.781553 (0.022333)\n",
            " KNN : 0.998299 (0.000403)\n",
            " CART : 0.998172 (0.000539)\n",
            " SVR : 0.963630 (0.005077)\n"
          ],
          "name": "stdout"
        }
      ]
    },
    {
      "cell_type": "code",
      "metadata": {
        "colab": {
          "base_uri": "https://localhost:8080/",
          "height": 730
        },
        "id": "u6SpQ2THTF7T",
        "outputId": "af90e375-4e3e-4f6b-e4ca-e12c42b6977c"
      },
      "source": [
        "from matplotlib import pyplot as plt\n",
        "from sklearn.metrics import mean_squared_error\n",
        "\n",
        "model = DecisionTreeRegressor()\n",
        "\n",
        "model.fit(X_train, Y_train)\n",
        "\n",
        "predictions = model.predict(X_validation)\n",
        "print(mean_squared_error(Y_validation, predictions))\n",
        "\n",
        "fig= plt.figure(figsize=(24,12))\n",
        "plt.plot(X_validation,Y_validation,'yo')\n",
        "plt.plot(X_validation,predictions,'go')\n",
        "plt.show()"
      ],
      "execution_count": null,
      "outputs": [
        {
          "output_type": "stream",
          "text": [
            "1.5615196565686262\n"
          ],
          "name": "stdout"
        },
        {
          "output_type": "display_data",
          "data": {
            "image/png": "[encoded data removed]",
            "text/plain": [
              "<Figure size 1728x864 with 1 Axes>"
            ]
          },
          "metadata": {
            "tags": [],
            "needs_background": "light"
          }
        }
      ]
    },
    {
      "cell_type": "code",
      "metadata": {
        "id": "Nf4p4gb7U7OQ"
      },
      "source": [
        ""
      ],
      "execution_count": null,
      "outputs": []
    }
  ]
}